{
 "cells": [
  {
   "cell_type": "code",
   "execution_count": 1,
   "metadata": {},
   "outputs": [],
   "source": [
    "from sklearn import tree"
   ]
  },
  {
   "cell_type": "code",
   "execution_count": 4,
   "metadata": {},
   "outputs": [],
   "source": [
    "tree = tree.DecisionTreeClassifier()"
   ]
  },
  {
   "cell_type": "markdown",
   "metadata": {},
   "source": [
    "|Thứ tự\t|Cân nặng   |Chiều cao  |Huyết áp   |Vận động   |Bệnh tim|\n",
    "|-------|-----------|-----------|-----------|-----------|:------:|\n",
    "|1      |nhẹ        |trung bình |trung bình |nhiều      |không   |\n",
    "|2      |nặng       |thấp       |cao        |ít         |có      |\n",
    "|3      |nhẹ        |thấp       |cao        |ít         |có      |\n",
    "|4      |nặng       |cao        |cao        |trung bình |không   |\n",
    "|5      |nhẹ        |cao        |cao        |nhiều      |không   |\n",
    "|6      |trung bình |thấp       |trung bình |nhiều      |không   |\n",
    "|7      |trung bình |trung bình |trung bình |ít         |không   |\n",
    "|8      |nặng       |thấp       |thấp       |nhiều      |có      |\n",
    "|9      |nhẹ        |cao        |trung bình |ít         |?       |\n",
    "|10     |nhẹ        |cao        |trung bình |nhiều      |?       |"
   ]
  },
  {
   "cell_type": "markdown",
   "metadata": {},
   "source": [
    "$$nhẹ = 1 \n",
    " \\\\thấp = 2\n",
    " \\\\trung bình = 3\n",
    " \\\\cao = 4\n",
    " \\\\nặng = 5\n",
    " \\\\ít = 7\n",
    " \\\\nhiều =8\n",
    " \\\\có = 0\n",
    " \\\\không = 1$$"
   ]
  },
  {
   "cell_type": "code",
   "execution_count": 7,
   "metadata": {},
   "outputs": [],
   "source": [
    "X = [[1,3,3,5],[5,2,4,7],[1,2,4,7],[5,4,4,3],[1,4,4,7],[3,2,3,7],[3,3,3,7],[5,2,2,7]]\n",
    "Y = [0,1,1,0,0,0,0,1]"
   ]
  },
  {
   "cell_type": "code",
   "execution_count": 9,
   "metadata": {},
   "outputs": [],
   "source": [
    "Test = tree.fit(X,Y)"
   ]
  },
  {
   "cell_type": "code",
   "execution_count": 11,
   "metadata": {},
   "outputs": [],
   "source": [
    "Predict = Test.predict([[1,4,3,7],[1,4,3,8]])"
   ]
  },
  {
   "cell_type": "code",
   "execution_count": 12,
   "metadata": {},
   "outputs": [
    {
     "data": {
      "text/plain": [
       "array([0, 0])"
      ]
     },
     "execution_count": 12,
     "metadata": {},
     "output_type": "execute_result"
    }
   ],
   "source": [
    "Predict"
   ]
  },
  {
   "cell_type": "code",
   "execution_count": null,
   "metadata": {},
   "outputs": [],
   "source": []
  }
 ],
 "metadata": {
  "kernelspec": {
   "display_name": "Python 3",
   "language": "python",
   "name": "python3"
  },
  "language_info": {
   "codemirror_mode": {
    "name": "ipython",
    "version": 3
   },
   "file_extension": ".py",
   "mimetype": "text/x-python",
   "name": "python",
   "nbconvert_exporter": "python",
   "pygments_lexer": "ipython3",
   "version": "3.7.1"
  }
 },
 "nbformat": 4,
 "nbformat_minor": 2
}
