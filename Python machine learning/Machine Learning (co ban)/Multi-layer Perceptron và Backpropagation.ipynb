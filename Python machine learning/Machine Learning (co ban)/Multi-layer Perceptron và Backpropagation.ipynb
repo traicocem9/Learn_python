{
 "cells": [
  {
   "cell_type": "code",
   "execution_count": 51,
   "metadata": {},
   "outputs": [],
   "source": [
    "import math\n",
    "import numpy as np\n",
    "import matplotlib.pyplot as plt\n",
    "from scipy import sparse\n",
    "xrange = range"
   ]
  },
  {
   "cell_type": "code",
   "execution_count": 78,
   "metadata": {},
   "outputs": [
    {
     "name": "stdout",
     "output_type": "stream",
     "text": [
      "[ 0.99998818  0.97858206  0.9939474   0.99527305  0.97664253  0.88009029\n",
      "  0.96369078  0.88107786  0.87419533  0.89102133  0.88478909  0.62432098\n",
      "  0.67753535  0.87065513  0.80799659  0.47499023  0.33901037  0.63997806\n",
      "  0.706503    0.40741552  0.62772628  0.35879702  0.79241584  0.27394814\n",
      "  0.65106828  0.09760722  0.10631895  0.16160119  0.06720605  0.55627321\n",
      "  0.20704542  0.19438989  0.21804827 -0.14710005  0.05947254 -0.27185529\n",
      " -0.14413962 -0.20401355 -0.10291928 -0.13900481 -0.22622797  0.05217271\n",
      " -0.56058408 -0.36276794 -0.28912912 -0.54022402 -0.65739868 -0.55933548\n",
      " -0.45747773 -0.56816322 -0.73316318 -0.66622177 -0.74018771 -0.42819688\n",
      " -0.77672113 -0.8335872  -0.74254471 -0.53419802 -0.87974525 -0.92338394\n",
      " -0.81693285 -0.84716836 -0.96208465 -0.94453457 -0.94415753 -0.85253347\n",
      " -0.99426515 -0.82091848 -0.94076271 -0.99117656 -0.95180594 -0.98947535\n",
      " -0.96485802 -0.99987187 -0.91447154 -0.97644851 -0.99968717 -0.9937812\n",
      " -0.93290486 -0.91855211 -0.87621155 -0.99999807 -0.85911318 -0.91697063\n",
      " -0.92476017 -0.9362031  -0.8324659  -0.91913309 -0.83205798 -0.71178275\n",
      " -0.68956284 -0.78696967 -0.76023581 -0.81672391 -0.6033722  -0.61541502\n",
      " -0.59570439 -0.34662742 -0.78925686 -0.20893447]\n"
     ]
    },
    {
     "data": {
      "image/png": "[encoded data removed]",
      "text/plain": [
       "<Figure size 432x288 with 1 Axes>"
      ]
     },
     "metadata": {},
     "output_type": "display_data"
    }
   ],
   "source": [
    "N = 100 # số điểm cho từng class\n",
    "d0 = 2 # số chiều\n",
    "C = 3 # số class\n",
    "x = np.zeros((d0, N*C))  # data matrix\n",
    "y = np.zeros(N*C) # class label\n",
    "\n",
    "for j in range(C):\n",
    "    ix = range(N*j, N*(j+1))\n",
    "    r = np.linspace(0, 1, N) # Ban kinh\n",
    "    t = np.linspace(j*4, (j+1) * 4, N) + np.random.randn(N)*0.2 \n",
    "    x[:,ix] = np.c_[r*np.cos(t),r* np.sin(t)].T\n",
    "    y[ix] = j\n",
    "\n",
    "plt.scatter(x[0, :N], x[1, :N], s =40)\n",
    "plt.scatter(x[0, N:2*N], x[1, N:2*N], s = 40)\n",
    "plt.scatter(x[0, 2*N:], x[1, 2*N:], s = 40)\n",
    "\n",
    "plt.xlim([-1, 1])\n",
    "plt.ylim([-1, 1])\n",
    "cur_axes = plt.gca()\n",
    "cur_axes.axes.get_xaxis().set_ticks([])\n",
    "cur_axes.axes.get_yaxis().set_ticks([])\n",
    "\n",
    "print (np.sin(t))"
   ]
  },
  {
   "cell_type": "code",
   "execution_count": 79,
   "metadata": {},
   "outputs": [],
   "source": [
    "def softmax(V):\n",
    "    b = np.max(V)\n",
    "    Z = np.exp(V - b) / sum(np.exp(V- b))\n",
    "    return Z\n",
    "\n",
    "def convert_label(y , C = C):\n",
    "    Y = sparse.coo_matrix((np.ones_like(y), (y, np.arange(len(y)))), shape = (C, len(y))).toarray()\n",
    "    return Y\n",
    "\n",
    "def cost(Y, Yhat):\n",
    "    return -np.sum(Y*np.log(Yhat))/ Y.shape[1]\n",
    "    "
   ]
  },
  {
   "cell_type": "code",
   "execution_count": 1,
   "metadata": {},
   "outputs": [
    {
     "ename": "NameError",
     "evalue": "name 'np' is not defined",
     "output_type": "error",
     "traceback": [
      "\u001b[1;31m---------------------------------------------------------------------------\u001b[0m",
      "\u001b[1;31mNameError\u001b[0m                                 Traceback (most recent call last)",
      "\u001b[1;32m<ipython-input-1-db5da1915797>\u001b[0m in \u001b[0;36m<module>\u001b[1;34m\u001b[0m\n\u001b[0;32m      3\u001b[0m \u001b[0md2\u001b[0m \u001b[1;33m=\u001b[0m \u001b[0mC\u001b[0m \u001b[1;33m=\u001b[0m \u001b[1;36m3\u001b[0m  \u001b[1;31m# output\u001b[0m\u001b[1;33m\u001b[0m\u001b[1;33m\u001b[0m\u001b[0m\n\u001b[0;32m      4\u001b[0m \u001b[1;33m\u001b[0m\u001b[0m\n\u001b[1;32m----> 5\u001b[1;33m \u001b[0mW1\u001b[0m\u001b[1;33m=\u001b[0m \u001b[1;36m0.01\u001b[0m\u001b[1;33m*\u001b[0m\u001b[0mnp\u001b[0m\u001b[1;33m.\u001b[0m\u001b[0mrandom\u001b[0m\u001b[1;33m.\u001b[0m\u001b[0mrandn\u001b[0m\u001b[1;33m(\u001b[0m\u001b[0md0\u001b[0m \u001b[1;33m,\u001b[0m\u001b[0md1\u001b[0m\u001b[1;33m)\u001b[0m \u001b[1;31m# tao W ngau nhien\u001b[0m\u001b[1;33m\u001b[0m\u001b[1;33m\u001b[0m\u001b[0m\n\u001b[0m\u001b[0;32m      6\u001b[0m \u001b[0mb1\u001b[0m \u001b[1;33m=\u001b[0m \u001b[0mnp\u001b[0m\u001b[1;33m.\u001b[0m\u001b[0mzeros\u001b[0m\u001b[1;33m(\u001b[0m\u001b[1;33m(\u001b[0m\u001b[0md1\u001b[0m\u001b[1;33m,\u001b[0m \u001b[1;36m1\u001b[0m\u001b[1;33m)\u001b[0m\u001b[1;33m)\u001b[0m\u001b[1;31m# tao b = 0\u001b[0m\u001b[1;33m\u001b[0m\u001b[1;33m\u001b[0m\u001b[0m\n\u001b[0;32m      7\u001b[0m \u001b[0mW2\u001b[0m \u001b[1;33m=\u001b[0m \u001b[1;36m0.01\u001b[0m\u001b[1;33m*\u001b[0m\u001b[0mnp\u001b[0m\u001b[1;33m.\u001b[0m\u001b[0mrandom\u001b[0m\u001b[1;33m.\u001b[0m\u001b[0mrandn\u001b[0m\u001b[1;33m(\u001b[0m\u001b[0md1\u001b[0m\u001b[1;33m,\u001b[0m \u001b[0md2\u001b[0m\u001b[1;33m)\u001b[0m\u001b[1;33m\u001b[0m\u001b[1;33m\u001b[0m\u001b[0m\n",
      "\u001b[1;31mNameError\u001b[0m: name 'np' is not defined"
     ]
    }
   ],
   "source": [
    "d0 = 2\n",
    "d1 = h = 200  # size of hidden layer\n",
    "d2 = C = 3  # output \n",
    "\n",
    "W1= 0.01*np.random.randn(d0 ,d1) # tao W ngau nhien \n",
    "b1 = np.zeros((d1, 1))# tao b = 0\n",
    "W2 = 0.01*np.random.randn(d1, d2)\n",
    "b2 = np.zeros((d2, 1))\n",
    "\n",
    "Y = convert_label(y, C) #one-hot coding\n",
    "N = x.shape[1]\n",
    "eta = 2 # learning rate\n",
    "for i in xrange(1000):\n",
    "    Z1 = np.dot(W1.T, x) +b1 \n",
    "    A1 = np.maximum(Z1, 0) # relu\n",
    "    Z2 = np.dot(W2.T, A1) +b2\n",
    "    \n",
    "    Yhat = softmax(Z2) # Y-pred\n",
    "    \n",
    "    loss = cost(Y, Yhat) # ham mat mat\n",
    "    \n",
    "    if i %1000 == 0:\n",
    "        print('iter%d, loss: %f' %(i, loss))\n",
    "    # Backpropagation    \n",
    "    E2 = (Yhat - Y)/N  \n",
    "    dW2 = np.dot(A1, E2.T)\n",
    "    db2 = np.sum(E2, axis = 1, keepdims = True)\n",
    "    E1 = np.dot(W2, E2)\n",
    "    E1[Z1 <= 0] = 0\n",
    "    dW1 = np.dot(x, E1.T)\n",
    "    db1 = np.sum(E1, axis = 1, keepdims = True)\n",
    "    # weight, bias \n",
    "    W1 += -eta*dW1\n",
    "    b1 += -eta*db1\n",
    "    W2 += -eta*dW2\n",
    "    b2 += -eta*db2\n",
    "\n",
    "Z1 = np.dot(W1.T, x ) +1\n",
    "A1 = np.maximum(Z1, 0)\n",
    "Z2 = np.dot(W2.T, A1) +b2\n",
    "predicted_class = np.argmax(Z2, axis = 0) # du doan label cua du lieu \n",
    "acc = (100 * np.mean(predicted_class == y)) # tinh % chinh xac cua bai toan\n",
    "print('training accuracy: %.2f%%' % acc)\n",
    "\n",
    "xm = np.arange(-1.5, 1.5,0.025 )\n",
    "xlen = len(xm)\n",
    "ym = np.arange(-1.5, 1.5 , 0.025)\n",
    "xx, yy = np.meshgrid(xm, ym)\n",
    "\n",
    "xx1 = xx.ravel().reshape(1, xx.size)\n",
    "yy1 = yy.ravel().reshape(1, yy.size)\n",
    "\n",
    "print(xx.shape, yy.shape)\n",
    "\n",
    "\n",
    "\n",
    "x0 = np.vstack((xx1, yy1))\n",
    "\n",
    "Z1 = np.dot(W1.T, x0) + b1 # y = WX + b\n",
    "A1 = np.maximum(Z1, 0)\n",
    "Z2 = np.dot(W2.T, A1) + b2 # \n",
    "Z = np.argmax(Z2, axis=0)\n",
    "\n",
    "Z = Z.reshape(xx.shape)\n",
    "CS = plt.contourf(xx, yy, Z, 200, cmap ='jet', alpha = .1)\n",
    "\n",
    "N = 100\n",
    "print(N)\n",
    "\n",
    "plt.scatter(x[0, :N], x[1, :N], s =40)\n",
    "plt.scatter(x[0, N:2*N], x[1, N:2*N], s = 40)\n",
    "plt.scatter(x[0, 2*N:], x[1, 2*N:], s = 40)\n",
    "# plt.axis('off')\n",
    "plt.xlim([-1.5, 1.5])\n",
    "plt.ylim([-1.5, 1.5])\n",
    "cur_axes = plt.gca()\n",
    "cur_axes.axes.get_xaxis().set_ticks([])\n",
    "cur_axes.axes.get_yaxis().set_ticks([])\n",
    "\n",
    "plt.xlim(-1.5, 1.5)\n",
    "plt.ylim(-1.5, 1.5)\n",
    "plt.xticks(())\n",
    "plt.yticks(())\n",
    "plt.title('#hidden units = %d, accuracy = %.2f %%' %(d1, acc))\n",
    "# plt.axis('equal')\n",
    "# display(x[1:, :], original_label)\n",
    "fn = 'ex_res'+ str(d1) + '.png'\n",
    "# plt.savefig(fn, bbox_inches='tight', dpi = 600)\n",
    "plt.show()"
   ]
  },
  {
   "cell_type": "code",
   "execution_count": 82,
   "metadata": {},
   "outputs": [],
   "source": [
    "import math\n",
    "import numpy as np\n",
    "import matplotlib.pyplot as plt\n",
    "from scipy import sparse"
   ]
  },
  {
   "cell_type": "code",
   "execution_count": 92,
   "metadata": {},
   "outputs": [
    {
     "data": {
      "text/plain": [
       "<matplotlib.collections.PathCollection at 0x23481964b70>"
      ]
     },
     "execution_count": 92,
     "metadata": {},
     "output_type": "execute_result"
    },
    {
     "data": {
      "image/png": "[encoded data removed]",
      "text/plain": [
       "<Figure size 432x288 with 1 Axes>"
      ]
     },
     "metadata": {
      "needs_background": "light"
     },
     "output_type": "display_data"
    }
   ],
   "source": [
    "N = 100 # so du lieu\n",
    "d0 = 2 # so chieu\n",
    "C = 3 # class\n",
    "x = np.zeros((d0, N*C))\n",
    "y = np.zeros((N*C))\n",
    "\n",
    "for j in range(C):\n",
    "    ix = range(N*j, N*(j+1))\n",
    "    r = np.linspace(0, 1, N)\n",
    "    t = np.linspace(j*4, (j+1) *4, N)+np.random.randn(N)*0.2\n",
    "    x[:, ix] = np.c_[(r*np.sin(t), r*np.cos(t))].T\n",
    "    y[ix] = j\n",
    "plt.scatter(x[0,:N], x[1,:N], s =40)\n",
    "plt.scatter(x[0, N:2*N], x[1, N:2*N], s = 40)\n",
    "plt.scatter(x[0, 2*N:3*N], x[1, N*2:N*3], s = 40)\n",
    "plt.xlim"
   ]
  },
  {
   "cell_type": "code",
   "execution_count": 94,
   "metadata": {},
   "outputs": [],
   "source": [
    "def softmax(V):\n",
    "    b = np.max(V)\n",
    "    Z = np.exp(V - b)/ sum(np.exp(V-b))\n",
    "    return Z\n",
    "\n",
    "def convert_label(y, C=C):\n",
    "    Y = sparse.coo_matrix((np.ones_like(y), (y, np.arange(len(y)))), shape(C, len(y))).toarray()\n",
    "    return Y\n",
    "\n",
    "def cost(Y, Yhat):\n",
    "    return -np.sum(Y*np.log(Yhat))/Y.shape[1]"
   ]
  },
  {
   "cell_type": "code",
   "execution_count": 95,
   "metadata": {},
   "outputs": [
    {
     "ename": "SyntaxError",
     "evalue": "unexpected EOF while parsing (<ipython-input-95-7fc1ac9aeb50>, line 13)",
     "output_type": "error",
     "traceback": [
      "\u001b[1;36m  File \u001b[1;32m\"<ipython-input-95-7fc1ac9aeb50>\"\u001b[1;36m, line \u001b[1;32m13\u001b[0m\n\u001b[1;33m    for i in xrange(10000):\u001b[0m\n\u001b[1;37m                           ^\u001b[0m\n\u001b[1;31mSyntaxError\u001b[0m\u001b[1;31m:\u001b[0m unexpected EOF while parsing\n"
     ]
    }
   ],
   "source": [
    "d0 = 2 \n",
    "d1 = h = 200\n",
    "d2 = C = 3\n",
    "\n",
    "W1 = 0.01*np.random.randn((d0, d1))\n",
    "b1 = np.zeros((d1, 1))\n",
    "W2 = 0.01* np.random.randn((d0, d2))\n",
    "b2 = np.zeros((d2, 2))\n",
    "# convert_label\n",
    "Y = convert_label(y, C)\n",
    "N = x.shape[1]\n",
    "eta = 2\n",
    "for i in xrange(10000):\n",
    "    Z1 = np.dot(W1.T, x) +b1\n",
    "    A2 = np.maximum(Z1, 0)\n",
    "    Z2 = np.dot(W2.T, A2) +b2\n",
    "\n",
    "    Yhat = softmax(Z2)\n",
    "    \n",
    "    loss = cost(Y                    , Yhat)"
   ]
  },
  {
   "cell_type": "code",
   "execution_count": null,
   "metadata": {},
   "outputs": [],
   "source": []
  }
 ],
 "metadata": {
  "kernelspec": {
   "display_name": "Python 3",
   "language": "python",
   "name": "python3"
  },
  "language_info": {
   "codemirror_mode": {
    "name": "ipython",
    "version": 3
   },
   "file_extension": ".py",
   "mimetype": "text/x-python",
   "name": "python",
   "nbconvert_exporter": "python",
   "pygments_lexer": "ipython3",
   "version": "3.7.1"
  }
 },
 "nbformat": 4,
 "nbformat_minor": 2
}
