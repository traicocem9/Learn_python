{
 "cells": [
  {
   "cell_type": "code",
   "execution_count": 34,
   "metadata": {},
   "outputs": [
    {
     "name": "stdout",
     "output_type": "stream",
     "text": [
      "5561355.893621179\n"
     ]
    },
    {
     "ename": "IndexError",
     "evalue": "index 959 is out of bounds for axis 1 with size 2",
     "output_type": "error",
     "traceback": [
      "\u001b[0;31m---------------------------------------------------------------------------\u001b[0m",
      "\u001b[0;31mIndexError\u001b[0m                                Traceback (most recent call last)",
      "\u001b[0;32m<ipython-input-34-2d41a550a16a>\u001b[0m in \u001b[0;36m<module>\u001b[0;34m\u001b[0m\n\u001b[1;32m    140\u001b[0m \u001b[0;34m\u001b[0m\u001b[0m\n\u001b[1;32m    141\u001b[0m \u001b[0mW_init\u001b[0m \u001b[0;34m=\u001b[0m \u001b[0mnp\u001b[0m\u001b[0;34m.\u001b[0m\u001b[0mrandom\u001b[0m\u001b[0;34m.\u001b[0m\u001b[0mrandn\u001b[0m\u001b[0;34m(\u001b[0m\u001b[0mX\u001b[0m\u001b[0;34m.\u001b[0m\u001b[0mshape\u001b[0m\u001b[0;34m[\u001b[0m\u001b[0;36m0\u001b[0m\u001b[0;34m]\u001b[0m\u001b[0;34m,\u001b[0m\u001b[0mC\u001b[0m\u001b[0;34m)\u001b[0m\u001b[0;34m\u001b[0m\u001b[0;34m\u001b[0m\u001b[0m\n\u001b[0;32m--> 142\u001b[0;31m \u001b[0mW\u001b[0m \u001b[0;34m=\u001b[0m \u001b[0msoftmax_regression\u001b[0m\u001b[0;34m(\u001b[0m\u001b[0mX\u001b[0m\u001b[0;34m,\u001b[0m \u001b[0moriginal_label\u001b[0m\u001b[0;34m,\u001b[0m \u001b[0mW_init\u001b[0m\u001b[0;34m,\u001b[0m \u001b[0meta\u001b[0m\u001b[0;34m)\u001b[0m\u001b[0;34m\u001b[0m\u001b[0;34m\u001b[0m\u001b[0m\n\u001b[0m\u001b[1;32m    143\u001b[0m \u001b[0;34m\u001b[0m\u001b[0m\n\u001b[1;32m    144\u001b[0m \u001b[0;31m# Phân vùng\u001b[0m\u001b[0;34m\u001b[0m\u001b[0;34m\u001b[0m\u001b[0;34m\u001b[0m\u001b[0m\n",
      "\u001b[0;32m<ipython-input-34-2d41a550a16a>\u001b[0m in \u001b[0;36msoftmax_regression\u001b[0;34m(X, y, W_init, eta, tol, max_count)\u001b[0m\n\u001b[1;32m     82\u001b[0m         \u001b[0;32mfor\u001b[0m \u001b[0mi\u001b[0m \u001b[0;32min\u001b[0m \u001b[0mmix_id\u001b[0m\u001b[0;34m:\u001b[0m\u001b[0;34m\u001b[0m\u001b[0;34m\u001b[0m\u001b[0m\n\u001b[1;32m     83\u001b[0m             \u001b[0mxi\u001b[0m \u001b[0;34m=\u001b[0m \u001b[0mX\u001b[0m\u001b[0;34m[\u001b[0m\u001b[0;34m:\u001b[0m\u001b[0;34m,\u001b[0m\u001b[0mi\u001b[0m\u001b[0;34m]\u001b[0m\u001b[0;34m.\u001b[0m\u001b[0mreshape\u001b[0m\u001b[0;34m(\u001b[0m\u001b[0md\u001b[0m\u001b[0;34m,\u001b[0m \u001b[0;36m1\u001b[0m\u001b[0;34m)\u001b[0m\u001b[0;34m\u001b[0m\u001b[0;34m\u001b[0m\u001b[0m\n\u001b[0;32m---> 84\u001b[0;31m             \u001b[0myi\u001b[0m \u001b[0;34m=\u001b[0m \u001b[0mY\u001b[0m\u001b[0;34m[\u001b[0m\u001b[0;34m:\u001b[0m\u001b[0;34m,\u001b[0m\u001b[0mi\u001b[0m\u001b[0;34m]\u001b[0m\u001b[0;34m.\u001b[0m\u001b[0mreshape\u001b[0m\u001b[0;34m(\u001b[0m\u001b[0mC\u001b[0m\u001b[0;34m,\u001b[0m \u001b[0;36m1\u001b[0m\u001b[0;34m)\u001b[0m\u001b[0;34m\u001b[0m\u001b[0;34m\u001b[0m\u001b[0m\n\u001b[0m\u001b[1;32m     85\u001b[0m             \u001b[0mai\u001b[0m \u001b[0;34m=\u001b[0m \u001b[0msoftmax\u001b[0m\u001b[0;34m(\u001b[0m\u001b[0mnp\u001b[0m\u001b[0;34m.\u001b[0m\u001b[0mdot\u001b[0m\u001b[0;34m(\u001b[0m\u001b[0mW\u001b[0m\u001b[0;34m[\u001b[0m\u001b[0;34m-\u001b[0m\u001b[0;36m1\u001b[0m\u001b[0;34m]\u001b[0m\u001b[0;34m.\u001b[0m\u001b[0mT\u001b[0m\u001b[0;34m,\u001b[0m \u001b[0mxi\u001b[0m\u001b[0;34m)\u001b[0m\u001b[0;34m)\u001b[0m\u001b[0;34m\u001b[0m\u001b[0;34m\u001b[0m\u001b[0m\n\u001b[1;32m     86\u001b[0m             \u001b[0mw_new\u001b[0m \u001b[0;34m=\u001b[0m \u001b[0mW\u001b[0m\u001b[0;34m[\u001b[0m\u001b[0;34m-\u001b[0m\u001b[0;36m1\u001b[0m\u001b[0;34m]\u001b[0m \u001b[0;34m+\u001b[0m \u001b[0meta\u001b[0m\u001b[0;34m*\u001b[0m\u001b[0mxi\u001b[0m\u001b[0;34m.\u001b[0m\u001b[0mdot\u001b[0m\u001b[0;34m(\u001b[0m\u001b[0;34m(\u001b[0m\u001b[0myi\u001b[0m \u001b[0;34m-\u001b[0m \u001b[0mai\u001b[0m\u001b[0;34m)\u001b[0m\u001b[0;34m.\u001b[0m\u001b[0mT\u001b[0m\u001b[0;34m)\u001b[0m\u001b[0;34m\u001b[0m\u001b[0;34m\u001b[0m\u001b[0m\n",
      "\u001b[0;31mIndexError\u001b[0m: index 959 is out of bounds for axis 1 with size 2"
     ]
    },
    {
     "data": {
      "image/png": "[encoded data removed]",
      "text/plain": [
       "<Figure size 432x288 with 1 Axes>"
      ]
     },
     "metadata": {
      "needs_background": "light"
     },
     "output_type": "display_data"
    }
   ],
   "source": [
    "from sklearn import linear_model\n",
    "import numpy as np \n",
    "import matplotlib.pyplot as plt\n",
    "from scipy import sparse\n",
    "import random\n",
    "# randomly generate data \n",
    "N = 2 # number of training sample \n",
    "d = 2 # data dimension \n",
    "C = 3 # number of classes \n",
    "\n",
    "X = np.random.randn(d, N)\n",
    "y = np.random.randint(0, 3, (N,))\n",
    "\n",
    "# in: Z = ax+b\n",
    "# out: Softmax của Z \n",
    "def softmax(Z):\n",
    "    return np.exp(Z)/ sum(np.exp(Z))\n",
    "\n",
    "# phiên bản softmax tránh tràn dữ liệu\n",
    "def softmax_stable(Z):\n",
    "    b = np.max(Z)\n",
    "    return np.exp(Z -b)/ sum(np.exp(Z -b))\n",
    "                                    \n",
    "# in: y, C: số class\n",
    "# out: 1 ma trận có số 1 ở chỗ y và 0 ở nơi còn lại\n",
    "def convert_labels(y, C= C):\n",
    "    Y = sparse.coo_matrix((np.ones_like(y),(y, np.arange(len(y)))), shape = (C, len(y))).toarray()\n",
    "    return Y\n",
    "\n",
    "Y = convert_labels(y,C)\n",
    "# in: x, y, w\n",
    "# out: Trả về chi phí của hàm\n",
    "# cost = sum(-y x log(Ypred))\n",
    "def cost(X, Y, W):\n",
    "    A = softmax(W.T.dot(X))\n",
    "    return -np.sum(Y * np.log(A))\n",
    "\n",
    "W = np.random.randn(d, C)\n",
    "\n",
    "# in: X, Y, W\n",
    "# out : tính ra đạo hàm \n",
    "# cong thuc grad: X * (y_pred - y).T\n",
    "def grad(X, Y, W):\n",
    "    A = softmax(W.T.dot(X))\n",
    "    E = A- Y\n",
    "    return X.dot(E.T)\n",
    "\n",
    "# in: X, Y, W, cost\n",
    "# out: hàm dùng để kiểm tra đạo hàm\n",
    "#kiem tra gradient :   ((cost(W) - eps)+(cost(W) + eps)) / (2*eps\n",
    "def numerical_grad(X,Y,W, cost):\n",
    "    eps = 1e-6        # số được quy định\n",
    "    g = np.zeros_like(W)\n",
    "    for i in range (W.shape[0]):\n",
    "        for j in range (W.shape[1]):\n",
    "            w_p = W.copy()\n",
    "            w_n =W.copy()\n",
    "\n",
    "            w_p[i, j] += eps\n",
    "            w_n[i, j] -= eps\n",
    "            g[i, j] = (cost(X,Y,w_p) + cost(X,Y,w_n)) /(2 *eps)\n",
    "    return g\n",
    "\n",
    "g1 = grad(X,Y,W)\n",
    "g2 = numerical_grad(X, Y, W, cost)\n",
    "\n",
    "print (np.linalg.norm(g1-g2))\n",
    "            \n",
    "# in: X,y, learningrate\n",
    "# out: Weight\n",
    "def softmax_regression(X, y, W_init, eta, tol = 1e-4, max_count = 10000 ):\n",
    "    W = [W_init]          # W ngẫu nhiên\n",
    "    C = W_init.shape[1]   # Số class\n",
    "    N = X.shape[1]        # số dữ liệu\n",
    "    d = X.shape[0]        # số chiều\n",
    "    \n",
    "    count = 0\n",
    "    check_w_after = 20\n",
    "    \n",
    "    while count < max_count:\n",
    "        mix_id = np.random.permutation(N)\n",
    "        for i in mix_id:\n",
    "            xi = X[:,i].reshape(d, 1)\n",
    "            yi = Y[:,i].reshape(C, 1)\n",
    "            ai = softmax(np.dot(W[-1].T, xi))\n",
    "            w_new = W[-1] + eta*xi.dot((yi - ai).T)\n",
    "            count += 1\n",
    "            if count % check_w_after == 0 :\n",
    "                if np.linalg.norm(w_new - W[-check_w_after])<tol:\n",
    "                    return W\n",
    "            W.append(w_new)\n",
    "    return W\n",
    "\n",
    "eta =0.05\n",
    "d = X.shape[0]\n",
    "W_init = np.random.randn(d,C)\n",
    "\n",
    "W = softmax_regression(X,y, W_init,eta)\n",
    "\n",
    "\n",
    "# in: X, W\n",
    "# out: y_hat\n",
    "def predict(W,X):\n",
    "    A = softmax_stable(W.T.dot((X)))\n",
    "    return np.argmax(A, axis = 0)\n",
    "\n",
    "means = np.array([[2,2],[8,3],[3,7]])  # tạo ra trung tâm của vùng \n",
    "cov = [[1,0], [0,1]]  \n",
    "N = 500    # số điểm \n",
    "\n",
    "new_N = random.randint(0,100)\n",
    "\n",
    "k = random.randint(0,2)\n",
    "\n",
    "X_new = np.random.multivariate_normal(means[k], cov, new_N)\n",
    "# tạo ra ngẫu nhiên điểm dữ liệu xung quanh trung tâm\n",
    "X0 = np.random.multivariate_normal(means[0], cov, N)\n",
    "X1 = np.random.multivariate_normal(means[1], cov, N)\n",
    "X2 = np.random.multivariate_normal(means[2], cov, N)\n",
    "\n",
    "# Nối X\n",
    "X = np.concatenate((X0, X1, X2), axis = 0).T\n",
    "\n",
    "# Nối thêm số 1 để chuyển thành (Y = W.T * X)\n",
    "X = np.concatenate((np.ones((1, 3*N)), X), axis = 0)\n",
    "C = 3\n",
    "\n",
    "# Các label của class (0,1,2)\n",
    "original_label = np.asarray([0]*N+ [1]*N+ [2]*N).T\n",
    "\n",
    "# vẽ dữ liệu lên biểu đồ\n",
    "plt.scatter(X0[:,0], X0[:,1], color = \"g\")\n",
    "plt.scatter(X1[:,0], X1[:,1], color = \"#915151\")\n",
    "plt.scatter(X2[:,0], X2[:,1], color = \"#251D9A\")\n",
    "\n",
    "# trung tâm \n",
    "plt.scatter(means[0,0], means[0,1], s = 99, marker = \"+\")\n",
    "plt.scatter(means[1,0], means[1,1], s = 99, marker = \"*\")\n",
    "plt.scatter(means[2,0], means[2,1], s = 99, marker = \"2\")\n",
    "\n",
    "W_init = np.random.randn(X.shape[0],C)\n",
    "W = softmax_regression(X, original_label, W_init, eta)\n",
    "\n",
    "# Phân vùng\n",
    "\n",
    "xm = np.arange(-2,11,0.025)\n",
    "xlen = len(xm)\n",
    "ym = np.arange(-3, 10, 0.025)\n",
    "ylen = len(ym)\n",
    "\n",
    "xx, yy = np.meshgrid(xm, ym)\n",
    "print(np.shape(xx))\n",
    "\n",
    "xx1 = xx.ravel().reshape(1,xx.size)\n",
    "yy1 = yy.ravel().reshape(1,yy.size)\n",
    "\n",
    "XX = np.concatenate((np.ones((1,xx.size)), xx1, yy1), axis = 0)\n",
    "\n",
    "Z = predict(W[-1],XX)\n",
    "\n",
    "Z = Z.reshape(xx.shape)\n",
    "\n",
    "CS = plt.contourf (xx, yy, Z, 200, cmap = 'jet', alpha = 0.1)\n",
    "\n",
    "plt.xlim(-2, 11)\n",
    "plt.ylim(-3, 10)\n",
    "plt.xticks(())\n",
    "plt.yticks(())\n",
    "\n",
    "display(X[1:,:], original_label)\n",
    "plt.show()\n",
    "        \n",
    "            \n",
    "    \n",
    "\n"
   ]
  },
  {
   "cell_type": "code",
   "execution_count": 2,
   "metadata": {},
   "outputs": [],
   "source": [
    "# Ham softmax\n",
    "def softmax(Z):\n",
    "    return np.exp(Z)/ sum(np.exp(Z))\n",
    "\n",
    "# phien ban on dinh hon cua softmax giup ham khong bi overflow: softmax_stable\n",
    "def softmax_stable(Z):\n",
    "    \n",
    "    e_Z = np.exp(Z - np.max(Z, axis = 0, keepdims = True))\n",
    "    A = e_Z / e_Z.sum(axis = 0)\n",
    "    return A\n",
    "\n",
    "\n",
    "\n",
    "\n",
    "\n"
   ]
  },
  {
   "cell_type": "code",
   "execution_count": 3,
   "metadata": {},
   "outputs": [],
   "source": [
    "\n",
    "## One-hot coding chuyển dữ liệu 1 số sang 1 vector \n",
    "from scipy import sparse \n",
    "def convert_labels(y, C = C):\n",
    "       \n",
    "    Y = sparse.coo_matrix((np.ones_like(y), (y, np.arange(len(y)))), shape = (C, len(y))).toarray()\n",
    "    return Y \n",
    "\n",
    "Y = convert_labels(y, C)\n"
   ]
  },
  {
   "cell_type": "code",
   "execution_count": 4,
   "metadata": {},
   "outputs": [
    {
     "name": "stdout",
     "output_type": "stream",
     "text": [
      "8.746066172287741e-10\n"
     ]
    },
    {
     "data": {
      "text/plain": [
       "array([[-0.95822211,  0.72078487],\n",
       "       [ 0.76237529, -1.75445423]])"
      ]
     },
     "execution_count": 4,
     "metadata": {},
     "output_type": "execute_result"
    }
   ],
   "source": [
    "# cost_function \n",
    "def cost(X, Y, W):\n",
    "    A = softmax(W.T.dot(X))\n",
    "    return -np.sum(Y*np.log(A))\n",
    "\n",
    "W_init = np.random.randn(d, C)\n",
    "# gradient: dao ham\n",
    "def grad(X, Y, W):\n",
    "    A = softmax((W.T.dot(X)))\n",
    "    E = A - Y\n",
    "    return X.dot(E.T)\n",
    "\n",
    "# kiem tra dao ham\n",
    "def numerical_grad(X, Y, W, cost):\n",
    "    eps = 1e-6\n",
    "    g = np.zeros_like(W)\n",
    "    for i in range(W.shape[0]):\n",
    "        for j in range(W.shape[1]):\n",
    "            W_p = W.copy()\n",
    "            W_n = W.copy()\n",
    "            W_p[i, j] += eps \n",
    "            W_n[i, j] -= eps\n",
    "            g[i,j] = (cost(X, Y, W_p) - cost(X, Y, W_n))/(2*eps)\n",
    "    return g \n",
    "\n",
    "g1 = grad(X, Y, W_init)\n",
    "g2 = numerical_grad(X, Y, W_init, cost)\n",
    "\n",
    "print(np.linalg.norm(g1 - g2))\n",
    "X"
   ]
  },
  {
   "cell_type": "code",
   "execution_count": 5,
   "metadata": {},
   "outputs": [
    {
     "data": {
      "text/plain": [
       "array([[1, 0],\n",
       "       [0, 0],\n",
       "       [0, 1]])"
      ]
     },
     "execution_count": 5,
     "metadata": {},
     "output_type": "execute_result"
    }
   ],
   "source": [
    "# Ham chinh softmax regression\n",
    "def softmax_regression(X, y, W_init, eta, tol = 1e-4, max_count = 10000):\n",
    "    W = [W_init]    \n",
    "    C = W_init.shape[1]\n",
    "    Y = convert_labels(y, C)\n",
    "    N = X.shape[1]\n",
    "    d = X.shape[0]\n",
    "    \n",
    "    count = 0\n",
    "    check_w_after = 20\n",
    "    while count < max_count:\n",
    "        # mix data \n",
    "        mix_id = np.random.permutation(N)\n",
    "        for i in mix_id:\n",
    "            xi = X[:, i].reshape(d, 1)\n",
    "            yi = Y[:, i].reshape(C, 1)\n",
    "            ai = softmax(np.dot(W[-1].T, xi))\n",
    "            W_new = W[-1] + eta*xi.dot((yi - ai).T)\n",
    "            count += 1\n",
    "            # stopping criteria\n",
    "            if count%check_w_after == 0:                \n",
    "                if np.linalg.norm(W_new - W[-check_w_after]) < tol:\n",
    "                    return W\n",
    "            W.append(W_new)\n",
    "    return W\n",
    "eta = .05 \n",
    "d = X.shape[0]\n",
    "W_init = np.random.randn(d, C)\n",
    "\n",
    "W = softmax_regression(X, y, W_init, eta)\n",
    "Y"
   ]
  },
  {
   "cell_type": "code",
   "execution_count": 6,
   "metadata": {},
   "outputs": [],
   "source": [
    "def predict(W,X):\n",
    "    A = softmax_stable(W.T.dot((X)))\n",
    "    return np.argmax(A, axis =0)"
   ]
  },
  {
   "cell_type": "code",
   "execution_count": 7,
   "metadata": {},
   "outputs": [
    {
     "name": "stdout",
     "output_type": "stream",
     "text": [
      "[0 0 0 0 0 1 1 1 1 1]\n",
      "[[1 1 1 1 1 0 0 0 0 0]\n",
      " [0 0 0 0 0 1 1 1 1 1]\n",
      " [0 0 0 0 0 0 0 0 0 0]]\n"
     ]
    },
    {
     "data": {
      "image/png": "[encoded data removed]",
      "text/plain": [
       "<Figure size 432x288 with 1 Axes>"
      ]
     },
     "metadata": {
      "needs_background": "light"
     },
     "output_type": "display_data"
    }
   ],
   "source": [
    "import random\n",
    "from random import randint\n",
    "\n",
    "means = np.array([[2, 2], [8, 3], [3, 7]])  # giá trị trung bình ( trung tâm xác suất)\n",
    "cov = [[1, 0], [0, 1]] #\n",
    "N = 500 #số dữ liệu \n",
    "\n",
    "new_N = randint(0,100)\n",
    "\n",
    "k = randint(0,2)\n",
    "\n",
    "X_new = np.random.multivariate_normal(means[k], cov, new_N)\n",
    "# tạo ra ngẫu nhiên điểm dữ liệu xung quanh giá trị xác suất trung bình \n",
    "X0 = np.random.multivariate_normal(means[0], cov, N)\n",
    "X1 = np.random.multivariate_normal(means[1], cov, N)\n",
    "X2 = np.random.multivariate_normal(means[2], cov, N)\n",
    "\n",
    "# nối các dữ liệu\n",
    "X = np.concatenate((X0, X1, X2), axis = 0).T \n",
    "\n",
    "# nối thêm số 1 để chuyển hàm sang (Y = W.T * X)\n",
    "X = np.concatenate((np.ones((1, 3*N)), X), axis = 0)\n",
    "C = 3\n",
    "\n",
    "# các label của class (0, 1, 2)\n",
    "original_label = np.asarray([0]*N + [1]*N + [2]*N).T\n",
    "\n",
    "# vẽ dữ liệu lên biểu đồ\n",
    "plt.scatter(X0[:,0],X0[:,1],color = 'g')\n",
    "plt.scatter(X1[:,0],X1[:,1], color = '#915151')\n",
    "plt.scatter(X2[:,0],X2[:,1], color = '#251D9A')\n",
    "#New X\n",
    "plt.scatter(X_new[:,0],X_new[:,1])\n",
    "\n",
    "\n",
    "plt.scatter(means[0,0], means[0,1],s = 99 ,marker = '+',color = 'r')\n",
    "plt.scatter(means[1,0],means[1,1], s = 99,marker = '*')\n",
    "plt.scatter(means[2,0],means[2,1], s = 99,marker = '2', color = '#E47E19')\n",
    "a = convert_labels(original_label,C)\n",
    "np.shape(a)\n",
    "print(original_label[ 495:505])\n",
    "print(a[:, 495:505])"
   ]
  },
  {
   "cell_type": "code",
   "execution_count": 8,
   "metadata": {},
   "outputs": [
    {
     "name": "stdout",
     "output_type": "stream",
     "text": [
      "[[ 6.99406053 -4.23934764 -4.69601542]\n",
      " [-1.77466718  0.65635278 -1.67119022]\n",
      " [-1.78085518 -1.81396898  0.93886957]]\n"
     ]
    }
   ],
   "source": [
    "W_init = np.random.randn(X.shape[0], C)\n",
    "W = softmax_regression(X, original_label, W_init, eta)\n",
    "print (W[-1])"
   ]
  },
  {
   "cell_type": "code",
   "execution_count": 9,
   "metadata": {},
   "outputs": [
    {
     "name": "stdout",
     "output_type": "stream",
     "text": [
      "(520, 520)\n",
      "(1, 270400)\n",
      "(3, 270400)\n",
      "(270400,)\n"
     ]
    }
   ],
   "source": [
    "#Visualize \n",
    "# x_min, x_max = X[:, 1].min() - .5, X[:, 1].max() + .5\n",
    "# y_min, y_max = X[:, 2].min() - .5, X[:, 2].max() + .5\n",
    "# x_min, x_max = -4, 14\n",
    "# y_min, y_max = -4, 14\n",
    "\n",
    "xm = np.arange(-2, 11, 0.025)\n",
    "xlen = len(xm)\n",
    "ym = np.arange(-3, 10, 0.025)\n",
    "ylen = len(ym)\n",
    "xx, yy = np.meshgrid(xm, ym)\n",
    "print(np.shape(xx))\n",
    "\n",
    "# xx, yy = np.meshgrid(np.arange(x_min, x_max, h), np.arange(y_min, y_max, h))\n",
    "# xx.ravel(), yy.ravel()\n",
    "\n",
    "print(np.ones((1, xx.size)).shape)\n",
    "xx1 = xx.ravel().reshape(1, xx.size)\n",
    "yy1 = yy.ravel().reshape(1, yy.size)\n",
    "\n",
    "# print(xx.shape, yy.shape)\n",
    "XX = np.concatenate((np.ones((1, xx.size)), xx1, yy1), axis = 0)\n",
    "\n",
    "\n",
    "print(XX.shape)\n",
    "\n",
    "Z = predict(W[-1], XX)\n",
    "print(np.shape(Z))"
   ]
  },
  {
   "cell_type": "code",
   "execution_count": 10,
   "metadata": {},
   "outputs": [
    {
     "name": "stdout",
     "output_type": "stream",
     "text": [
      "(520, 520)\n"
     ]
    },
    {
     "data": {
      "text/plain": [
       "array([[2.20569618, 3.7486061 , 2.36108938, ..., 1.76117515, 1.08436222,\n",
       "        1.90427946],\n",
       "       [2.03904929, 3.35357393, 0.69306606, ..., 7.88430313, 5.20688571,\n",
       "        7.56623165]])"
      ]
     },
     "metadata": {},
     "output_type": "display_data"
    },
    {
     "data": {
      "text/plain": [
       "array([0, 0, 0, ..., 2, 2, 2])"
      ]
     },
     "metadata": {},
     "output_type": "display_data"
    },
    {
     "data": {
      "image/png": "[encoded data removed]",
      "text/plain": [
       "<Figure size 432x288 with 1 Axes>"
      ]
     },
     "metadata": {},
     "output_type": "display_data"
    }
   ],
   "source": [
    "# Put the result into a color plot\n",
    "Z = Z.reshape(xx.shape)\n",
    "print(np.shape(Z))\n",
    "# plt.figure(1\n",
    "# plt.pcolormesh(xx, yy, Z, cmap='jet', alpha = .35)\n",
    "\n",
    "CS = plt.contourf(xx, yy, Z, 200, cmap='jet', alpha = .1)\n",
    "\n",
    "# Plot also the training points\n",
    "# plt.scatter(X[:, 1], X[:, 2], c=Y, edgecolors='k', cmap=plt.cm.Paired)\n",
    "# plt.xlabel('Sepal length')\n",
    "# plt.ylabel('Sepal width')\n",
    "\n",
    "plt.xlim(-2, 11)\n",
    "plt.ylim(-3, 10)\n",
    "plt.xticks(())\n",
    "plt.yticks(())\n",
    "# plt.axis('equal')\n",
    "display(X[1:, :], original_label)\n",
    "plt.savefig('ex1.png', bbox_inches='tight', dpi = 300)\n",
    "plt.show()"
   ]
  },
  {
   "cell_type": "code",
   "execution_count": null,
   "metadata": {},
   "outputs": [],
   "source": []
  },
  {
   "cell_type": "code",
   "execution_count": null,
   "metadata": {},
   "outputs": [],
   "source": []
  },
  {
   "cell_type": "code",
   "execution_count": null,
   "metadata": {},
   "outputs": [],
   "source": []
  },
  {
   "cell_type": "code",
   "execution_count": null,
   "metadata": {},
   "outputs": [],
   "source": []
  },
  {
   "cell_type": "code",
   "execution_count": null,
   "metadata": {},
   "outputs": [],
   "source": []
  },
  {
   "cell_type": "code",
   "execution_count": null,
   "metadata": {},
   "outputs": [],
   "source": []
  },
  {
   "cell_type": "code",
   "execution_count": null,
   "metadata": {},
   "outputs": [],
   "source": []
  },
  {
   "cell_type": "code",
   "execution_count": null,
   "metadata": {},
   "outputs": [],
   "source": []
  },
  {
   "cell_type": "code",
   "execution_count": null,
   "metadata": {},
   "outputs": [],
   "source": []
  },
  {
   "cell_type": "code",
   "execution_count": null,
   "metadata": {},
   "outputs": [],
   "source": []
  },
  {
   "cell_type": "code",
   "execution_count": null,
   "metadata": {},
   "outputs": [],
   "source": []
  },
  {
   "cell_type": "code",
   "execution_count": null,
   "metadata": {},
   "outputs": [],
   "source": []
  },
  {
   "cell_type": "code",
   "execution_count": null,
   "metadata": {},
   "outputs": [],
   "source": []
  },
  {
   "cell_type": "code",
   "execution_count": null,
   "metadata": {},
   "outputs": [],
   "source": []
  },
  {
   "cell_type": "code",
   "execution_count": null,
   "metadata": {},
   "outputs": [],
   "source": []
  },
  {
   "cell_type": "code",
   "execution_count": null,
   "metadata": {},
   "outputs": [],
   "source": []
  },
  {
   "cell_type": "code",
   "execution_count": null,
   "metadata": {},
   "outputs": [],
   "source": []
  },
  {
   "cell_type": "code",
   "execution_count": null,
   "metadata": {},
   "outputs": [],
   "source": []
  },
  {
   "cell_type": "code",
   "execution_count": null,
   "metadata": {},
   "outputs": [],
   "source": []
  },
  {
   "cell_type": "code",
   "execution_count": null,
   "metadata": {},
   "outputs": [],
   "source": []
  },
  {
   "cell_type": "code",
   "execution_count": null,
   "metadata": {},
   "outputs": [],
   "source": []
  },
  {
   "cell_type": "code",
   "execution_count": null,
   "metadata": {},
   "outputs": [],
   "source": []
  },
  {
   "cell_type": "code",
   "execution_count": null,
   "metadata": {},
   "outputs": [],
   "source": []
  }
 ],
 "metadata": {
  "kernelspec": {
   "display_name": "Python 3",
   "language": "python",
   "name": "python3"
  },
  "language_info": {
   "codemirror_mode": {
    "name": "ipython",
    "version": 3
   },
   "file_extension": ".py",
   "mimetype": "text/x-python",
   "name": "python",
   "nbconvert_exporter": "python",
   "pygments_lexer": "ipython3",
   "version": "3.7.3"
  }
 },
 "nbformat": 4,
 "nbformat_minor": 2
}
