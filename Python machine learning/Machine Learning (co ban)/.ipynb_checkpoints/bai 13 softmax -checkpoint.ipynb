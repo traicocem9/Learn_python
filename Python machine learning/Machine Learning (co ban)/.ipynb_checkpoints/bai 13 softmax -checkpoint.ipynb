{
 "cells": [
  {
   "cell_type": "code",
   "execution_count": 31,
   "metadata": {},
   "outputs": [],
   "source": [
    "from sklearn import linear_model\n",
    "import numpy as np \n",
    "import matplotlib.pyplot as plt\n",
    "\n",
    "# randomly generate data \n",
    "N = 2 # number of training sample \n",
    "d = 2 # data dimension \n",
    "C = 3 # number of classes \n",
    "\n",
    "X = np.random.randn(d, N)\n",
    "y = np.random.randint(0, 3, (N,))"
   ]
  },
  {
   "cell_type": "code",
   "execution_count": 32,
   "metadata": {},
   "outputs": [],
   "source": [
    "# Ham softmax\n",
    "def softmax(Z):\n",
    "    return np.exp(Z)/ sum(np.exp(Z))\n",
    "\n",
    "# phien ban on dinh hon cua softmax giup ham khong bi overflow: softmax_stable\n",
    "def softmax_stable(Z):\n",
    "    \n",
    "    e_Z = np.exp(Z - np.max(Z, axis = 0, keepdims = True))\n",
    "    A = e_Z / e_Z.sum(axis = 0)\n",
    "    return A\n",
    "\n",
    "\n",
    "\n",
    "\n",
    "\n"
   ]
  },
  {
   "cell_type": "code",
   "execution_count": 33,
   "metadata": {},
   "outputs": [],
   "source": [
    "\n",
    "## One-hot coding chuyển dữ liệu 1 số sang 1 vector \n",
    "from scipy import sparse \n",
    "def convert_labels(y, C = C):\n",
    "       \n",
    "    Y = sparse.coo_matrix((np.ones_like(y), (y, np.arange(len(y)))), shape = (C, len(y))).toarray()\n",
    "    return Y \n",
    "\n",
    "Y = convert_labels(y, C)\n"
   ]
  },
  {
   "cell_type": "code",
   "execution_count": 34,
   "metadata": {},
   "outputs": [
    {
     "name": "stdout",
     "output_type": "stream",
     "text": [
      "5.842789572698189e-10\n"
     ]
    },
    {
     "data": {
      "text/plain": [
       "array([[-0.99628489, -1.23224978],\n",
       "       [-0.64403371, -0.10709086]])"
      ]
     },
     "execution_count": 34,
     "metadata": {},
     "output_type": "execute_result"
    }
   ],
   "source": [
    "# cost_function \n",
    "def cost(X, Y, W):\n",
    "    A = softmax(W.T.dot(X))\n",
    "    return -np.sum(Y*np.log(A))\n",
    "\n",
    "W_init = np.random.randn(d, C)\n",
    "# gradient: dao ham\n",
    "def grad(X, Y, W):\n",
    "    A = softmax((W.T.dot(X)))\n",
    "    E = A - Y\n",
    "    return X.dot(E.T)\n",
    "\n",
    "# kiem tra dao ham\n",
    "def numerical_grad(X, Y, W, cost):\n",
    "    eps = 1e-6\n",
    "    g = np.zeros_like(W)\n",
    "    for i in range(W.shape[0]):\n",
    "        for j in range(W.shape[1]):\n",
    "            W_p = W.copy()\n",
    "            W_n = W.copy()\n",
    "            W_p[i, j] += eps \n",
    "            W_n[i, j] -= eps\n",
    "            g[i,j] = (cost(X, Y, W_p) - cost(X, Y, W_n))/(2*eps)\n",
    "    return g \n",
    "\n",
    "g1 = grad(X, Y, W_init)\n",
    "g2 = numerical_grad(X, Y, W_init, cost)\n",
    "\n",
    "print(np.linalg.norm(g1 - g2))\n",
    "X"
   ]
  },
  {
   "cell_type": "code",
   "execution_count": 35,
   "metadata": {},
   "outputs": [
    {
     "data": {
      "text/plain": [
       "array([[0, 1],\n",
       "       [1, 0],\n",
       "       [0, 0]])"
      ]
     },
     "execution_count": 35,
     "metadata": {},
     "output_type": "execute_result"
    }
   ],
   "source": [
    "# Ham chinh softmax regression\n",
    "def softmax_regression(X, y, W_init, eta, tol = 1e-4, max_count = 10000):\n",
    "    W = [W_init]    \n",
    "    C = W_init.shape[1]\n",
    "    Y = convert_labels(y, C)\n",
    "    N = X.shape[1]\n",
    "    d = X.shape[0]\n",
    "    \n",
    "    count = 0\n",
    "    check_w_after = 20\n",
    "    while count < max_count:\n",
    "        # mix data \n",
    "        mix_id = np.random.permutation(N)\n",
    "        for i in mix_id:\n",
    "            xi = X[:, i].reshape(d, 1)\n",
    "            yi = Y[:, i].reshape(C, 1)\n",
    "            ai = softmax(np.dot(W[-1].T, xi))\n",
    "            W_new = W[-1] + eta*xi.dot((yi - ai).T)\n",
    "            count += 1\n",
    "            # stopping criteria\n",
    "            if count%check_w_after == 0:                \n",
    "                if np.linalg.norm(W_new - W[-check_w_after]) < tol:\n",
    "                    return W\n",
    "            W.append(W_new)\n",
    "    return W\n",
    "eta = .05 \n",
    "d = X.shape[0]\n",
    "W_init = np.random.randn(d, C)\n",
    "\n",
    "W = softmax_regression(X, y, W_init, eta)\n",
    "Y"
   ]
  },
  {
   "cell_type": "code",
   "execution_count": 36,
   "metadata": {},
   "outputs": [],
   "source": [
    "def predict(W,X):\n",
    "    A = softmax_stable(W.T.dot((X)))\n",
    "    return np.argmax(A, axis =0)"
   ]
  },
  {
   "cell_type": "code",
   "execution_count": 40,
   "metadata": {},
   "outputs": [
    {
     "name": "stdout",
     "output_type": "stream",
     "text": [
      "[0 0 0 0 0 1 1 1 1 1]\n",
      "[[1 1 1 1 1 0 0 0 0 0]\n",
      " [0 0 0 0 0 1 1 1 1 1]\n",
      " [0 0 0 0 0 0 0 0 0 0]]\n"
     ]
    },
    {
     "data": {
      "image/png": "[encoded data removed]",
      "text/plain": [
       "<Figure size 432x288 with 1 Axes>"
      ]
     },
     "metadata": {
      "needs_background": "light"
     },
     "output_type": "display_data"
    }
   ],
   "source": [
    "import random\n",
    "from random import randint\n",
    "\n",
    "means = np.array([[2, 2], [8, 3], [3, 7]])  # giá trị trung bình ( trung tâm xác suất)\n",
    "cov = [[1, 0], [0, 1]] #\n",
    "N = 500 #số dữ liệu \n",
    "\n",
    "new_N = randint(0,100)\n",
    "\n",
    "k = randint(0,2)\n",
    "\n",
    "X_new = np.random.multivariate_normal(means[k], cov, new_N)\n",
    "# tạo ra ngẫu nhiên điểm dữ liệu xung quanh giá trị xác suất trung bình \n",
    "X0 = np.random.multivariate_normal(means[0], cov, N)\n",
    "X1 = np.random.multivariate_normal(means[1], cov, N)\n",
    "X2 = np.random.multivariate_normal(means[2], cov, N)\n",
    "\n",
    "# nối các dữ liệu\n",
    "X = np.concatenate((X0, X1, X2), axis = 0).T \n",
    "\n",
    "# nối thêm số 1 để chuyển hàm sang (Y = W.T * X)\n",
    "X = np.concatenate((np.ones((1, 3*N)), X), axis = 0)\n",
    "C = 3\n",
    "\n",
    "# các label của class (0, 1, 2)\n",
    "original_label = np.asarray([0]*N + [1]*N + [2]*N).T\n",
    "\n",
    "# vẽ dữ liệu lên biểu đồ\n",
    "plt.scatter(X0[:,0],X0[:,1],color = 'g')\n",
    "plt.scatter(X1[:,0],X1[:,1], color = '#915151')\n",
    "plt.scatter(X2[:,0],X2[:,1], color = '#251D9A')\n",
    "#New X\n",
    "plt.scatter(X_new[:,0],X_new[:,1])\n",
    "\n",
    "\n",
    "plt.scatter(means[0,0], means[0,1],s = 99 ,marker = '+',color = 'r')\n",
    "plt.scatter(means[1,0],means[1,1], s = 99,marker = '*')\n",
    "plt.scatter(means[2,0],means[2,1], s = 99,marker = '2', color = '#E47E19')\n",
    "a = convert_labels(original_label,C)\n",
    "np.shape(a)\n",
    "print(original_label[ 495:505])\n",
    "print(a[:, 495:505])"
   ]
  },
  {
   "cell_type": "code",
   "execution_count": 41,
   "metadata": {},
   "outputs": [
    {
     "name": "stdout",
     "output_type": "stream",
     "text": [
      "[[ 8.05920148 -3.35462476 -3.53364444]\n",
      " [-1.23127099  1.14546364 -1.39360496]\n",
      " [-1.50679309 -1.45637276  1.28077837]]\n"
     ]
    }
   ],
   "source": [
    "W_init = np.random.randn(X.shape[0], C)\n",
    "W = softmax_regression(X, original_label, W_init, eta)\n",
    "print (W[-1])"
   ]
  },
  {
   "cell_type": "code",
   "execution_count": 42,
   "metadata": {},
   "outputs": [
    {
     "name": "stdout",
     "output_type": "stream",
     "text": [
      "(1, 270400)\n",
      "(3, 270400)\n",
      "[[1. 1. 1. ... 1. 1. 1.]]\n"
     ]
    },
    {
     "data": {
      "text/plain": [
       "array([[ 8.05920148, -3.35462476, -3.53364444],\n",
       "       [-1.23127099,  1.14546364, -1.39360496],\n",
       "       [-1.50679309, -1.45637276,  1.28077837]])"
      ]
     },
     "execution_count": 42,
     "metadata": {},
     "output_type": "execute_result"
    }
   ],
   "source": [
    "x1m = np.arange(-2, 11, 0.025)\n",
    "lenx = len(x1m)\n",
    "x2m = np.arange(-3, 10, 0.025)\n",
    "leny = len(x2m)\n",
    "xx1, xx2 = np.meshgrid(x1m,x2m) # tạo ra lưới dữ liệu\n",
    "\n",
    "print (np.ones((1, xx1.size)).shape)\n",
    "\n",
    "xx1_1 = xx1.ravel().reshape(1, xx1.size)\n",
    "xx2_1 = xx2.ravel().reshape(1, xx2.size)\n",
    "\n",
    "xx1 = np.concatenate((np.ones((1, xx1.size)), xx1_1, xx2_1), axis = 0)\n",
    "print (xx1.shape)\n",
    "print(np.ones((1, xx1.size)))\n",
    "Z = predict(W[-1], xx1)\n",
    "Z\n",
    "W[-1]"
   ]
  },
  {
   "cell_type": "code",
   "execution_count": 44,
   "metadata": {},
   "outputs": [
    {
     "ename": "ValueError",
     "evalue": "cannot reshape array of size 270400 into shape (3,270400)",
     "output_type": "error",
     "traceback": [
      "\u001b[1;31m---------------------------------------------------------------------------\u001b[0m",
      "\u001b[1;31mValueError\u001b[0m                                Traceback (most recent call last)",
      "\u001b[1;32m<ipython-input-44-88c3b9ae908a>\u001b[0m in \u001b[0;36m<module>\u001b[1;34m\u001b[0m\n\u001b[0;32m      1\u001b[0m \u001b[1;33m\u001b[0m\u001b[0m\n\u001b[0;32m      2\u001b[0m \u001b[1;33m\u001b[0m\u001b[0m\n\u001b[1;32m----> 3\u001b[1;33m \u001b[0mZ\u001b[0m \u001b[1;33m=\u001b[0m \u001b[0mZ\u001b[0m\u001b[1;33m.\u001b[0m\u001b[0mreshape\u001b[0m\u001b[1;33m(\u001b[0m\u001b[0mxx1\u001b[0m\u001b[1;33m.\u001b[0m\u001b[0mshape\u001b[0m\u001b[1;33m)\u001b[0m\u001b[1;33m\u001b[0m\u001b[1;33m\u001b[0m\u001b[0m\n\u001b[0m\u001b[0;32m      4\u001b[0m \u001b[1;33m\u001b[0m\u001b[0m\n\u001b[0;32m      5\u001b[0m \u001b[1;33m\u001b[0m\u001b[0m\n",
      "\u001b[1;31mValueError\u001b[0m: cannot reshape array of size 270400 into shape (3,270400)"
     ]
    }
   ],
   "source": [
    "\n",
    "\n",
    "Z = Z.reshape(xx1.shape)\n",
    "\n",
    "\n",
    "CS = plt.contourf(xx, xx2, Z, 200, cmap='jet', alpha = .1)\n",
    "print (np.shape(Z))\n",
    "plt.xlim(-2, 11)\n",
    "plt.ylim(-3, 10)\n",
    "plt.xticks(())\n",
    "plt.yticks(())\n",
    "\n",
    "display(X[1:, :], original_label)\n",
    "\n",
    "plt.savefig('ex1.png', bbox_inches='tight', dpi = 300)\n",
    "plt.show()\n",
    "\n",
    "Z = Z.reshape(xx.shape)\n",
    "\n",
    "CS = plt.contourf(xx , xx2, Z, 200, cmap='jet', alpha = .1)\n",
    "\n",
    "# Scatter\n",
    "plt.scatter(X0[:,0],X0[:,1],color = 'g')\n",
    "plt.scatter(X1[:,0],X1[:,1], color = '#915151')\n",
    "plt.scatter(X2[:,0],X2[:,1], color = '#251D9A')\n",
    "#New X\n",
    "plt.scatter(X_new[:,0],X_new[:,1], color = 'y')\n",
    "\n",
    "\n",
    "plt.scatter(means[0,0], means[0,1],s = 99 ,marker = '+',color = 'r')\n",
    "plt.scatter(means[1,0],means[1,1], s = 99,marker = '*')\n",
    "plt.scatter(means[2,0],means[2,1], s = 99,marker = '2', color = '#E47E19')\n"
   ]
  },
  {
   "cell_type": "code",
   "execution_count": null,
   "metadata": {},
   "outputs": [],
   "source": []
  },
  {
   "cell_type": "code",
   "execution_count": null,
   "metadata": {},
   "outputs": [],
   "source": []
  },
  {
   "cell_type": "code",
   "execution_count": null,
   "metadata": {},
   "outputs": [],
   "source": []
  },
  {
   "cell_type": "code",
   "execution_count": null,
   "metadata": {},
   "outputs": [],
   "source": []
  },
  {
   "cell_type": "code",
   "execution_count": null,
   "metadata": {},
   "outputs": [],
   "source": []
  },
  {
   "cell_type": "code",
   "execution_count": null,
   "metadata": {},
   "outputs": [],
   "source": []
  },
  {
   "cell_type": "code",
   "execution_count": null,
   "metadata": {},
   "outputs": [],
   "source": []
  },
  {
   "cell_type": "code",
   "execution_count": null,
   "metadata": {},
   "outputs": [],
   "source": []
  },
  {
   "cell_type": "code",
   "execution_count": null,
   "metadata": {},
   "outputs": [],
   "source": []
  },
  {
   "cell_type": "code",
   "execution_count": null,
   "metadata": {},
   "outputs": [],
   "source": []
  },
  {
   "cell_type": "code",
   "execution_count": null,
   "metadata": {},
   "outputs": [],
   "source": []
  },
  {
   "cell_type": "code",
   "execution_count": null,
   "metadata": {},
   "outputs": [],
   "source": []
  },
  {
   "cell_type": "code",
   "execution_count": null,
   "metadata": {},
   "outputs": [],
   "source": []
  },
  {
   "cell_type": "code",
   "execution_count": null,
   "metadata": {},
   "outputs": [],
   "source": []
  },
  {
   "cell_type": "code",
   "execution_count": null,
   "metadata": {},
   "outputs": [],
   "source": []
  },
  {
   "cell_type": "code",
   "execution_count": null,
   "metadata": {},
   "outputs": [],
   "source": []
  },
  {
   "cell_type": "code",
   "execution_count": null,
   "metadata": {},
   "outputs": [],
   "source": []
  },
  {
   "cell_type": "code",
   "execution_count": null,
   "metadata": {},
   "outputs": [],
   "source": []
  },
  {
   "cell_type": "code",
   "execution_count": null,
   "metadata": {},
   "outputs": [],
   "source": []
  },
  {
   "cell_type": "code",
   "execution_count": null,
   "metadata": {},
   "outputs": [],
   "source": []
  },
  {
   "cell_type": "code",
   "execution_count": null,
   "metadata": {},
   "outputs": [],
   "source": []
  },
  {
   "cell_type": "code",
   "execution_count": null,
   "metadata": {},
   "outputs": [],
   "source": []
  },
  {
   "cell_type": "code",
   "execution_count": null,
   "metadata": {},
   "outputs": [],
   "source": []
  }
 ],
 "metadata": {
  "kernelspec": {
   "display_name": "Python 3",
   "language": "python",
   "name": "python3"
  },
  "language_info": {
   "codemirror_mode": {
    "name": "ipython",
    "version": 3
   },
   "file_extension": ".py",
   "mimetype": "text/x-python",
   "name": "python",
   "nbconvert_exporter": "python",
   "pygments_lexer": "ipython3",
   "version": "3.7.1"
  }
 },
 "nbformat": 4,
 "nbformat_minor": 2
}
