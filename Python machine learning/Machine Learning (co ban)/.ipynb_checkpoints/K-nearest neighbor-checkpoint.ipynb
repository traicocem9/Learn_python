{
 "cells": [
  {
   "cell_type": "code",
   "execution_count": 35,
   "metadata": {},
   "outputs": [],
   "source": [
    "import numpy as np\n",
    "from sklearn import neighbors, datasets\n",
    "import matplotlib.pyplot as plt\n",
    "from sklearn.model_selection import train_test_split\n",
    "from sklearn.metrics import accuracy_score # sklearn danh gia\n"
   ]
  },
  {
   "cell_type": "code",
   "execution_count": 36,
   "metadata": {},
   "outputs": [
    {
     "name": "stdout",
     "output_type": "stream",
     "text": [
      "number of classes: 3\n",
      "number of data points 150\n",
      "\n",
      "Sample from class 0:\n",
      " [[5.1 3.5 1.4 0.2]\n",
      " [4.9 3.  1.4 0.2]\n",
      " [4.7 3.2 1.3 0.2]\n",
      " [4.6 3.1 1.5 0.2]\n",
      " [5.  3.6 1.4 0.2]]\n",
      "\n",
      "Sample from class 1:\n",
      " [[7.  3.2 4.7 1.4]\n",
      " [6.4 3.2 4.5 1.5]\n",
      " [6.9 3.1 4.9 1.5]\n",
      " [5.5 2.3 4.  1.3]\n",
      " [6.5 2.8 4.6 1.5]]\n",
      "\n",
      "Sample from class 2:\n",
      " [[6.3 3.3 6.  2.5]\n",
      " [5.8 2.7 5.1 1.9]\n",
      " [7.1 3.  5.9 2.1]\n",
      " [6.3 2.9 5.6 1.8]\n",
      " [6.5 3.  5.8 2.2]]\n"
     ]
    }
   ],
   "source": [
    "# load dữ liệu hoa iris từ Sklearn\n",
    "iris = datasets.load_iris()\n",
    "iris_X = iris.data # data\n",
    "iris_y = iris.target # label\n",
    "\n",
    "print ('number of classes: %d' %len(np.unique(iris_y)))\n",
    "print('number of data points %d' %len(iris_y)) \n",
    " \n",
    "X0 = iris_X[iris_y == 0]\n",
    "X1 = iris_X[iris_y == 1]\n",
    "X2 = iris_X[iris_y == 2]\n",
    "\n",
    "print('\\nSample from class 0:\\n', X0[:5,:])\n",
    "print('\\nSample from class 1:\\n', X1[:5,:])\n",
    "print('\\nSample from class 2:\\n', X2[:5,:])"
   ]
  },
  {
   "cell_type": "code",
   "execution_count": 37,
   "metadata": {},
   "outputs": [
    {
     "name": "stdout",
     "output_type": "stream",
     "text": [
      "Training size: 100\n",
      "Test size: 50\n"
     ]
    }
   ],
   "source": [
    "# phân dữ liệu ra 2 phần train , test\n",
    "X_train, X_test, y_train, y_test = train_test_split(iris_X, iris_y, test_size = 50) # số dữ liệu test 50\n",
    "\n",
    "#train size, Test size\n",
    "print('Training size:', len(y_train))\n",
    "print('Test size:', len(y_test))"
   ]
  },
  {
   "cell_type": "code",
   "execution_count": 43,
   "metadata": {},
   "outputs": [
    {
     "name": "stdout",
     "output_type": "stream",
     "text": [
      "20 du lieu dau tien\n",
      "predicted labels: [2 2 0 0 0 2 0 2 2 0 2 0 1 0 1 0 2 2 0 0]\n",
      "ground truth:     [2 2 0 0 0 2 0 2 2 0 2 0 2 0 1 0 2 2 0 0]\n"
     ]
    }
   ],
   "source": [
    "# tinh toan k_mean bang sklearn\n",
    "clf = neighbors.KNeighborsClassifier(n_neighbors = 1, p = 2)\n",
    "clf.fit(X_train, y_train)\n",
    "y_pred = clf.predict(X_test)\n",
    "\n",
    "print('20 du lieu dau tien')\n",
    "print('predicted labels:',y_pred[20:40])\n",
    "print('ground truth:    ', y_test[20:40])"
   ]
  },
  {
   "cell_type": "code",
   "execution_count": 44,
   "metadata": {},
   "outputs": [
    {
     "name": "stdout",
     "output_type": "stream",
     "text": [
      "Accuracy of 1NN: 98.00 %\n"
     ]
    }
   ],
   "source": [
    "# danh gia thuat toan\n",
    "print('Accuracy of 1NN: %.2f %%' %(100*accuracy_score(y_test, y_pred)))"
   ]
  },
  {
   "cell_type": "code",
   "execution_count": 46,
   "metadata": {},
   "outputs": [
    {
     "name": "stdout",
     "output_type": "stream",
     "text": [
      "Accuracy of major voting: 96.00 %\n"
     ]
    }
   ],
   "source": [
    "# Tăng lượng điểm dữ liệu lên lân cận lên 10\n",
    "\n",
    "clf = neighbors.KNeighborsClassifier(n_neighbors = 10, p = 2)\n",
    "clf.fit(X_train, y_train)\n",
    "y_pred = clf.predict(X_test)\n",
    "\n",
    "\n",
    "# danh gia thuat toán \n",
    "print('Accuracy of major voting:% .2f %%' %(100*accuracy_score(y_test, y_pred)))"
   ]
  },
  {
   "cell_type": "code",
   "execution_count": 48,
   "metadata": {},
   "outputs": [
    {
     "name": "stdout",
     "output_type": "stream",
     "text": [
      "Accuracy of 10NN (1/distance weights): 98.00 %\n"
     ]
    }
   ],
   "source": [
    "clf = neighbors.KNeighborsClassifier(n_neighbors = 10, p = 2, weights = 'distance')\n",
    "clf.fit(X_train, y_train)\n",
    "y_pred = clf.predict(X_test)\n",
    "\n",
    "print ('Accuracy of 10NN (1/distance weights): %.2f %%' %(100*accuracy_score(y_test, y_pred)))"
   ]
  },
  {
   "cell_type": "code",
   "execution_count": null,
   "metadata": {},
   "outputs": [],
   "source": []
  }
 ],
 "metadata": {
  "kernelspec": {
   "display_name": "Python 3",
   "language": "python",
   "name": "python3"
  },
  "language_info": {
   "codemirror_mode": {
    "name": "ipython",
    "version": 3
   },
   "file_extension": ".py",
   "mimetype": "text/x-python",
   "name": "python",
   "nbconvert_exporter": "python",
   "pygments_lexer": "ipython3",
   "version": "3.7.1"
  }
 },
 "nbformat": 4,
 "nbformat_minor": 2
}
