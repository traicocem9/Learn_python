{
 "cells": [
  {
   "cell_type": "markdown",
   "metadata": {},
   "source": [
    "## tóm tắt bài giảng logistic regression"
   ]
  },
  {
   "cell_type": "markdown",
   "metadata": {},
   "source": [
    "- cho đầu vào X chọn lọc các basic cho ra hàm $Z_x$ đưa hàm $Z_x$ qua 1 hàm linear cho ra $\\bar{X}_t$ mục đích để làm đầu vào cùng chiều với đầu ra. Làm tương tự với đầu ra \n",
    "- Trong sigmoid là xác suất chạy từ 0-1 nên khi tính ta phải đưa $Z_x$ qua hàm Soft max :$Z_{i}^d = \\frac{\\sigma(Z_i)}{\\sum_{j=1}^d\\sigma(Z_j)}$,  có điều kiện là:$ =\n",
    "\\begin{cases}\n",
    "0 < Z_{i}^d <1\\\\\n",
    "Z^d =1\n",
    "\\end{cases}\n",
    "$ Tương tự với $\\bar{Z_y}$\n",
    "- Khi có 2 vector về xác suất tính khoảng cách cross-entropy $d_z = \\sum_{i}^d -Z_{i}^X log Z_{i}^y$"
   ]
  },
  {
   "cell_type": "code",
   "execution_count": null,
   "metadata": {},
   "outputs": [],
   "source": []
  }
 ],
 "metadata": {
  "kernelspec": {
   "display_name": "Python 3",
   "language": "python",
   "name": "python3"
  },
  "language_info": {
   "codemirror_mode": {
    "name": "ipython",
    "version": 3
   },
   "file_extension": ".py",
   "mimetype": "text/x-python",
   "name": "python",
   "nbconvert_exporter": "python",
   "pygments_lexer": "ipython3",
   "version": "3.7.1"
  }
 },
 "nbformat": 4,
 "nbformat_minor": 2
}
