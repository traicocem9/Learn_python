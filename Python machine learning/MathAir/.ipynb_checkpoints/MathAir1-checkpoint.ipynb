{
 "cells": [
  {
   "cell_type": "markdown",
   "metadata": {},
   "source": [
    "## Trí Tuệ Là gì?\n"
   ]
  },
  {
   "cell_type": "markdown",
   "metadata": {},
   "source": [
    "Trí tuệ (intelligence) là kết quả hoạt động của não bộ , dưa trên những khái niệm, sự hiểu biết, những kiến thức được gom góp lại từ việc học và trải nghiệm. "
   ]
  },
  {
   "cell_type": "markdown",
   "metadata": {},
   "source": [
    "## Trí tuệ nhân tạo là gì?"
   ]
  },
  {
   "cell_type": "markdown",
   "metadata": {},
   "source": [
    "trí tuệ nhân tạo là áp dụng kiến thức kỹ năng được mô hình hoá bằng hàm số và từ đó lập trình thành chương trình máy tính với một số chức năng trí tuệ giống con người, có khả năng học và áp dụng kiến thức, kỹ năng "
   ]
  },
  {
   "cell_type": "markdown",
   "metadata": {},
   "source": [
    "## Những tiến bộ góp phần dẫn đến cuộc cách mạng AI"
   ]
  },
  {
   "cell_type": "markdown",
   "metadata": {},
   "source": [
    "Nhờ sự phát minh ra toán học. Vào những năm 1950, những nhà khoa học đã nghiên cứu về trí tuệ nhân tạo với giải thuật học máy đầu tiên là 'perception' và chế tạo ra robot giống con người. Với sự phát triển vượt bậc về công nghệ và thông tin. Trí tuệ nhân tạo cũng được phát triển và ứng dụng vào nhiều lĩnh vực"
   ]
  },
  {
   "cell_type": "markdown",
   "metadata": {},
   "source": [
    "## Học là gì ?"
   ]
  },
  {
   "cell_type": "markdown",
   "metadata": {},
   "source": [
    "Học là sự tiếp thu kiến thức, kỹ năng mới thông qua trải nghiệm, giáo dục và nghiên cứu\n",
    "Việc học bao gồm 6 giai đoạn: Quan sát, suy nghĩ, làm thí nghiệm, phân tích, học và báo cáo kết quả, chia sẽ kiến thức."
   ]
  },
  {
   "cell_type": "markdown",
   "metadata": {},
   "source": [
    "## học máy là gì ?"
   ]
  },
  {
   "cell_type": "markdown",
   "metadata": {},
   "source": [
    "Học máy là quá trình thu thập kiến thức, kỹ năng thông qua trải nghiệm, giáo dục và nghiên cứu. Học máy là xây dựng 1 hệ thống tự học cho máy tính và đưa vào dữ liệu có sẵn để giải quyết vấn đề kiến thức và kỹ năng được mô hình hoá thành hàm số ẩn tối ưu và lập trình thành hàm số cỗ máy. Khác với Học, Học máy chỉ tập trung vào 3 giai đoạn là: làm thí nghiệm, phân tích ,học và cho ra kết quả"
   ]
  },
  {
   "cell_type": "markdown",
   "metadata": {},
   "source": [
    "## Vị trí của ML trong AI"
   ]
  },
  {
   "cell_type": "markdown",
   "metadata": {},
   "source": [
    "Vị trí của ML trong AI là vô cùng nhỏ"
   ]
  },
  {
   "cell_type": "markdown",
   "metadata": {},
   "source": [
    "## Kiến thức kỹ năng có thể được biểu diễn trong máy tính ra sao?"
   ]
  },
  {
   "cell_type": "markdown",
   "metadata": {},
   "source": [
    "Kiến thức kỹ năng có thể được biểu diễn trong máy tính thông qua các hàm số."
   ]
  },
  {
   "cell_type": "markdown",
   "metadata": {},
   "source": [
    "##  Các thành phần cơ bản cần được mô tả và cung cấp để máy tính tự học cách giải quyết một tác v"
   ]
  },
  {
   "cell_type": "markdown",
   "metadata": {},
   "source": [
    "#### T: Nhiệm vụ(TASK)\n",
    "#### E: Trải nghiệm, dữ liệu để huấn luyện(experience)\n",
    "#### P: chuẩn đánh giá để biết tốt xấu, đúng sai(performance)\n",
    "#### A: Giải thuật(algorithm)\n",
    "#### F: Không gian hàm số(Function space)\n",
    "\n",
    "### Gọi tắt là TEFPA"
   ]
  },
  {
   "cell_type": "markdown",
   "metadata": {},
   "source": [
    "## máy tính chuyển 1 tấm ảnh chất lượng kém (mờ, low-resolution) lên thành ảnh rõ nét (high-resolution)"
   ]
  },
  {
   "cell_type": "markdown",
   "metadata": {},
   "source": [
    "#### Tác vụ: đầu vào là tấm hình chất lượng kém ---------> đầu ra là tấm hình có chất lượng được cải thiện\n",
    "#### kinh nghiệm/dữ liệu cần chuẩn bị: Cần phải thu thập những tấm hình có độ phân giải cao và màu sắc tốt bằng cách tìm kiếm trong các thư viện ảnh, phải rất là lâu và khó khăn vì phải tìm những bức hình có độ sáng và màu sắc phù hợp với bức hình. Có thể sử dụng học máy trong quá trình lọc dữ liệu và cần phải phần cứng tốt để thực hiện tác vụ\n",
    "#### Cách thức đánh giá chất lượng đầu ra: Số pixel trong ảnh phải tăng lên làm rõ nét bức ảnh và màu sắc không bị nhoè và bể hình\n"
   ]
  },
  {
   "cell_type": "markdown",
   "metadata": {},
   "source": [
    "## máy tính xử lý ảnh chụp X-quang và dự đoán bệnh\n",
    "\n"
   ]
  },
  {
   "cell_type": "markdown",
   "metadata": {},
   "source": [
    "#### Tác vụ: đầu vào là những bức ảnh X-quang của bệnh nhân ----------> đầu ra là dữ liệu chuẩn đoán bệnh\n",
    "#### Kinh nghiệm/dữ liệu cần chuẩn bị: phải thu thập tất cả hình ảnh X-quang và số liệu của những người mắc bệnh từ những dữ liệu có sẵn trong bệnh viện VÀ rất nhiều bệnh viện khác. Phải tốn rất nhiều thời gian và công sức vì hồ sơ bệnh nhân là thứ được bảo mật không được xâm phạm. Chúng ta phải nhờ những bệnh viện chọn lọc những bệnh nhân từ nhiễm bệnh yếu đến nhiễm nặng .Và cần thứ để có thể chứa được số dữ liệu khổng lồ đấy vì việc này rất quan trọng liên quan đến hàng tỷ người trên thế giới.\n",
    "#### cách thức đánh giá chất lượng đầu ra: phải nhận biết được khối u, những phần xương bị gãy, những thứ bất thường trong cơ thể\n"
   ]
  },
  {
   "cell_type": "markdown",
   "metadata": {},
   "source": [
    "## máy tính đọc một email của khách hàng và tự chuyển đến thư mục tương ứng như \"cảm ơn\", \"khiếu nại\", \"hỏi thông tin\", \"xin việc\", v.v.\n",
    "\n"
   ]
  },
  {
   "cell_type": "markdown",
   "metadata": {},
   "source": [
    "#### tác vụ: đầu vào bức thư kí tự và hình ảnh ------------> đầu ra là sắp xếp các bức thư vào từng mục \"cảm ơn\", \"khiếu nại\", \"hỏi thông tin\", \"xin việc\".\n",
    "#### Kinh nghiệm/ dữ liệu: Cần tìm kiếm và nhận biết tiêu đề, các kí tự trong bức thư để có thể biết là bức thư được gửi về vấn đề gì, việc này không quá khó để thu thập vì chúng ta có thể yêu cầu những là thư tiêu để phải đặt theo như nào và từ đó nhận dạng dễ dàng hơn\n",
    "#### cách thức đánh giá chất lượng đầu ra: phải trả về đúng với mục vơi yêu cầu của bức thư đó."
   ]
  },
  {
   "cell_type": "markdown",
   "metadata": {},
   "source": [
    "## Ý nghĩa câu phát biểu sau: Máy tính \"học'' bằng cách tìm kiếm trong không gian các hàm số"
   ]
  },
  {
   "cell_type": "markdown",
   "metadata": {},
   "source": [
    "Nghĩa là trong không gian các hàm số vd: từ 0-100 là lớp 1, từ 100 - 200 là lớp 2,... thì máy học sẽ tìm trong không gian hàm số đó và cho biết kết quả của đầu vào "
   ]
  },
  {
   "cell_type": "markdown",
   "metadata": {},
   "source": [
    "## Hai vấn đề chính về không gian hàm mà ta cần đặc biệt chú ý để giúp máy tính tự tìm kiếm hàm có độ khái quát hoá cao là gì?\n",
    "\n"
   ]
  },
  {
   "cell_type": "markdown",
   "metadata": {},
   "source": [
    "### Vấn đề thứ nhất là biểu diễn không gian hàm (representation)\n",
    "### Vấn đề thứ hai là tìm kiếm huấn luyện ( search, train, learn, optimize)"
   ]
  },
  {
   "cell_type": "code",
   "execution_count": null,
   "metadata": {},
   "outputs": [],
   "source": []
  },
  {
   "cell_type": "code",
   "execution_count": null,
   "metadata": {},
   "outputs": [],
   "source": []
  },
  {
   "cell_type": "code",
   "execution_count": null,
   "metadata": {},
   "outputs": [],
   "source": []
  }
 ],
 "metadata": {
  "kernelspec": {
   "display_name": "Python 3",
   "language": "python",
   "name": "python3"
  },
  "language_info": {
   "codemirror_mode": {
    "name": "ipython",
    "version": 3
   },
   "file_extension": ".py",
   "mimetype": "text/x-python",
   "name": "python",
   "nbconvert_exporter": "python",
   "pygments_lexer": "ipython3",
   "version": "3.7.3"
  }
 },
 "nbformat": 4,
 "nbformat_minor": 2
}
