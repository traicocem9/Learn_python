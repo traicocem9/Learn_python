{
 "cells": [
  {
   "cell_type": "markdown",
   "metadata": {},
   "source": [
    "## Bài toán phân loại với sigmoid\n",
    "https://www.youtube.com/watch?v=6TH6maQWvwI&list=PLZEIt444jqpBPoqtW2ARJp9ICnF3c7vJC&index=13"
   ]
  },
  {
   "cell_type": "code",
   "execution_count": 1,
   "metadata": {},
   "outputs": [],
   "source": [
    "import pandas as pd\n",
    "import numpy as np\n",
    "import matplotlib.pyplot as plt"
   ]
  },
  {
   "cell_type": "code",
   "execution_count": 9,
   "metadata": {},
   "outputs": [],
   "source": [
    "# Đọc dữ liệu csv \n",
    "csv = pd.read_csv('data_classification.csv', header = None)\n",
    "csv\n",
    "\n",
    "# Data co label = 1\n",
    "trueX = []\n",
    "trueY = []\n",
    "\n",
    "# Data co label = 0\n",
    "faileX = []\n",
    "faileY = []"
   ]
  },
  {
   "cell_type": "code",
   "execution_count": 13,
   "metadata": {},
   "outputs": [
    {
     "data": {
      "text/plain": [
       "<matplotlib.collections.PathCollection at 0x288e35b8f28>"
      ]
     },
     "execution_count": 13,
     "metadata": {},
     "output_type": "execute_result"
    },
    {
     "data": {
      "image/png": "[encoded data removed]",
      "text/plain": [
       "<Figure size 432x288 with 1 Axes>"
      ]
     },
     "metadata": {
      "needs_background": "light"
     },
     "output_type": "display_data"
    }
   ],
   "source": [
    "# gan du lieu co label 1 vao du lieu 'true'\n",
    "# 0 vao du lieu 'False'\n",
    "for item in csv.values:\n",
    "    if item[2] == 1:\n",
    "        trueX.append(item[0])\n",
    "        trueY.append(item[1])\n",
    "    else:\n",
    "        \n",
    "        faileX.append(item[0])\n",
    "        faileY.append(item[1])\n",
    "        \n",
    "# in du lieu 'True' co symbol 'o'\n",
    "plt.scatter(trueX, trueY, marker = 'o')\n",
    "\n",
    "# in du lieu 'False' co symbol 'x'\n",
    "plt.scatter(faileX, faileY, marker = 'x')"
   ]
  },
  {
   "cell_type": "code",
   "execution_count": 17,
   "metadata": {},
   "outputs": [],
   "source": [
    "# hàm sigmoid\n",
    "def sigmoid(x):\n",
    "    return 1 / (1 + np.exp(-x))\n",
    "\n",
    "# hàm phân chia\n",
    "def phanchia(p):  #truyền vào xác xuất dự đoán 'p'\n",
    "    if p >= 0.5:  # phân chia dữ liệu trên 0.5 xếp vào [1] và dưới 0.5 xếp vào [0]\n",
    "        return 1\n",
    "    else:\n",
    "        return 0\n",
    "\n",
    "# hàm dự đoán (predict) ( Vẫn chưa hiểu lắm ngày mai hỏi cậu)\n",
    "def predict(features, weights):  \n",
    "    x = np.dot(features, weights)\n",
    "    return sigmoid(x)\n",
    "\n",
    "# hàm chi phí\n",
    "def cost_function(features, weights, labels):\n",
    "    "
   ]
  },
  {
   "cell_type": "code",
   "execution_count": null,
   "metadata": {},
   "outputs": [],
   "source": []
  }
 ],
 "metadata": {
  "kernelspec": {
   "display_name": "Python 3",
   "language": "python",
   "name": "python3"
  },
  "language_info": {
   "codemirror_mode": {
    "name": "ipython",
    "version": 3
   },
   "file_extension": ".py",
   "mimetype": "text/x-python",
   "name": "python",
   "nbconvert_exporter": "python",
   "pygments_lexer": "ipython3",
   "version": "3.7.1"
  }
 },
 "nbformat": 4,
 "nbformat_minor": 2
}
